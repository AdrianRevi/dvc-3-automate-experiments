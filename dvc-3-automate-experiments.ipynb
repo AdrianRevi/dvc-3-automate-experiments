{
 "cells": [
  {
   "cell_type": "markdown",
   "metadata": {},
   "source": [
    "# Install and init DVC\n",
    "\n",
    "Prerequisites: \n",
    "-  DVC and requirements.txt packages installed (if not - check README.md file for instructions)\n",
    "-  A project repository is a Git repo \n",
    "\n"
   ]
  },
  {
   "cell_type": "markdown",
   "metadata": {},
   "source": [
    "## Install with pip"
   ]
  },
  {
   "cell_type": "code",
   "execution_count": 1,
   "metadata": {
    "ExecuteTime": {
     "end_time": "2020-06-28T18:24:27.551290Z",
     "start_time": "2020-06-28T18:24:13.203553Z"
    },
    "scrolled": true
   },
   "outputs": [
    {
     "name": "stdout",
     "output_type": "stream",
     "text": [
      "Requirement already satisfied: dvc==1.0.2 in ./venv-dvc-3-automate-experiments/lib/python3.7/site-packages (1.0.2)\n",
      "Requirement already satisfied: pathspec>=0.6.0 in ./venv-dvc-3-automate-experiments/lib/python3.7/site-packages (from dvc==1.0.2) (0.8.0)\n",
      "Requirement already satisfied: nanotime>=0.5.2 in ./venv-dvc-3-automate-experiments/lib/python3.7/site-packages (from dvc==1.0.2) (0.5.2)\n",
      "Requirement already satisfied: voluptuous>=0.11.7 in ./venv-dvc-3-automate-experiments/lib/python3.7/site-packages (from dvc==1.0.2) (0.11.7)\n",
      "Requirement already satisfied: flufl.lock>=3.2 in ./venv-dvc-3-automate-experiments/lib/python3.7/site-packages (from dvc==1.0.2) (3.2)\n",
      "Requirement already satisfied: PyYAML<5.4,>=5.1.2 in ./venv-dvc-3-automate-experiments/lib/python3.7/site-packages (from dvc==1.0.2) (5.3)\n",
      "Requirement already satisfied: pydot>=1.2.4 in ./venv-dvc-3-automate-experiments/lib/python3.7/site-packages (from dvc==1.0.2) (1.4.1)\n",
      "Requirement already satisfied: shortuuid>=0.5.0 in ./venv-dvc-3-automate-experiments/lib/python3.7/site-packages (from dvc==1.0.2) (1.0.1)\n",
      "Requirement already satisfied: shtab>=1.0.2 in ./venv-dvc-3-automate-experiments/lib/python3.7/site-packages (from dvc==1.0.2) (1.0.2)\n",
      "Requirement already satisfied: zc.lockfile>=1.2.1 in ./venv-dvc-3-automate-experiments/lib/python3.7/site-packages (from dvc==1.0.2) (2.0)\n",
      "Requirement already satisfied: ruamel.yaml>=0.16.1 in ./venv-dvc-3-automate-experiments/lib/python3.7/site-packages (from dvc==1.0.2) (0.16.10)\n",
      "Requirement already satisfied: dpath<3,>=2.0.1 in ./venv-dvc-3-automate-experiments/lib/python3.7/site-packages (from dvc==1.0.2) (2.0.1)\n",
      "Requirement already satisfied: appdirs>=1.4.3 in ./venv-dvc-3-automate-experiments/lib/python3.7/site-packages (from dvc==1.0.2) (1.4.4)\n",
      "Requirement already satisfied: tabulate>=0.8.7 in ./venv-dvc-3-automate-experiments/lib/python3.7/site-packages (from dvc==1.0.2) (0.8.7)\n",
      "Requirement already satisfied: distro>=1.3.0 in ./venv-dvc-3-automate-experiments/lib/python3.7/site-packages (from dvc==1.0.2) (1.5.0)\n",
      "Requirement already satisfied: setuptools>=34.0.0 in ./venv-dvc-3-automate-experiments/lib/python3.7/site-packages (from dvc==1.0.2) (47.1.1)\n",
      "Requirement already satisfied: pyasn1>=0.4.1 in ./venv-dvc-3-automate-experiments/lib/python3.7/site-packages (from dvc==1.0.2) (0.4.8)\n",
      "Requirement already satisfied: pygtrie==2.3.2 in ./venv-dvc-3-automate-experiments/lib/python3.7/site-packages (from dvc==1.0.2) (2.3.2)\n",
      "Requirement already satisfied: networkx<2.4,>=2.1 in ./venv-dvc-3-automate-experiments/lib/python3.7/site-packages (from dvc==1.0.2) (2.3)\n",
      "Requirement already satisfied: flatten-json>=0.1.6 in ./venv-dvc-3-automate-experiments/lib/python3.7/site-packages (from dvc==1.0.2) (0.1.7)\n",
      "Requirement already satisfied: ply>=3.9 in ./venv-dvc-3-automate-experiments/lib/python3.7/site-packages (from dvc==1.0.2) (3.11)\n",
      "Requirement already satisfied: gitpython>3 in ./venv-dvc-3-automate-experiments/lib/python3.7/site-packages (from dvc==1.0.2) (3.1.3)\n",
      "Requirement already satisfied: funcy>=1.14 in ./venv-dvc-3-automate-experiments/lib/python3.7/site-packages (from dvc==1.0.2) (1.14)\n",
      "Requirement already satisfied: grandalf==0.6 in ./venv-dvc-3-automate-experiments/lib/python3.7/site-packages (from dvc==1.0.2) (0.6)\n",
      "Requirement already satisfied: tqdm<5,>=4.45.0 in ./venv-dvc-3-automate-experiments/lib/python3.7/site-packages (from dvc==1.0.2) (4.47.0)\n",
      "Requirement already satisfied: packaging>=19.0 in ./venv-dvc-3-automate-experiments/lib/python3.7/site-packages (from dvc==1.0.2) (20.4)\n",
      "Requirement already satisfied: requests>=2.22.0 in ./venv-dvc-3-automate-experiments/lib/python3.7/site-packages (from dvc==1.0.2) (2.24.0)\n",
      "Requirement already satisfied: configobj>=5.0.6 in ./venv-dvc-3-automate-experiments/lib/python3.7/site-packages (from dvc==1.0.2) (5.0.6)\n",
      "Requirement already satisfied: jsonpath-ng>=1.5.1 in ./venv-dvc-3-automate-experiments/lib/python3.7/site-packages (from dvc==1.0.2) (1.5.1)\n",
      "Requirement already satisfied: colorama>=0.3.9 in ./venv-dvc-3-automate-experiments/lib/python3.7/site-packages (from dvc==1.0.2) (0.4.3)\n",
      "Requirement already satisfied: atpublic in ./venv-dvc-3-automate-experiments/lib/python3.7/site-packages (from flufl.lock>=3.2->dvc==1.0.2) (1.0)\n",
      "Requirement already satisfied: pyparsing>=2.1.4 in ./venv-dvc-3-automate-experiments/lib/python3.7/site-packages (from pydot>=1.2.4->dvc==1.0.2) (2.4.7)\n",
      "Requirement already satisfied: argparse in ./venv-dvc-3-automate-experiments/lib/python3.7/site-packages (from shtab>=1.0.2->dvc==1.0.2) (1.4.0)\n",
      "Requirement already satisfied: ruamel.yaml.clib>=0.1.2; platform_python_implementation == \"CPython\" and python_version < \"3.9\" in ./venv-dvc-3-automate-experiments/lib/python3.7/site-packages (from ruamel.yaml>=0.16.1->dvc==1.0.2) (0.2.0)\n",
      "Requirement already satisfied: decorator>=4.3.0 in ./venv-dvc-3-automate-experiments/lib/python3.7/site-packages (from networkx<2.4,>=2.1->dvc==1.0.2) (4.4.2)\n",
      "Requirement already satisfied: gitdb<5,>=4.0.1 in ./venv-dvc-3-automate-experiments/lib/python3.7/site-packages (from gitpython>3->dvc==1.0.2) (4.0.5)\n",
      "Requirement already satisfied: future in ./venv-dvc-3-automate-experiments/lib/python3.7/site-packages (from grandalf==0.6->dvc==1.0.2) (0.18.2)\n",
      "Requirement already satisfied: six in ./venv-dvc-3-automate-experiments/lib/python3.7/site-packages (from packaging>=19.0->dvc==1.0.2) (1.15.0)\n",
      "Requirement already satisfied: idna<3,>=2.5 in ./venv-dvc-3-automate-experiments/lib/python3.7/site-packages (from requests>=2.22.0->dvc==1.0.2) (2.9)\n",
      "Requirement already satisfied: certifi>=2017.4.17 in ./venv-dvc-3-automate-experiments/lib/python3.7/site-packages (from requests>=2.22.0->dvc==1.0.2) (2020.6.20)\n",
      "Requirement already satisfied: urllib3!=1.25.0,!=1.25.1,<1.26,>=1.21.1 in ./venv-dvc-3-automate-experiments/lib/python3.7/site-packages (from requests>=2.22.0->dvc==1.0.2) (1.25.9)\n",
      "Requirement already satisfied: chardet<4,>=3.0.2 in ./venv-dvc-3-automate-experiments/lib/python3.7/site-packages (from requests>=2.22.0->dvc==1.0.2) (3.0.4)\n",
      "Requirement already satisfied: smmap<4,>=3.0.1 in ./venv-dvc-3-automate-experiments/lib/python3.7/site-packages (from gitdb<5,>=4.0.1->gitpython>3->dvc==1.0.2) (3.0.4)\n"
     ]
    }
   ],
   "source": [
    "!pip install \"dvc==1.0.2\""
   ]
  },
  {
   "cell_type": "markdown",
   "metadata": {},
   "source": [
    "## Checkout branch `tutorial`"
   ]
  },
  {
   "cell_type": "code",
   "execution_count": 1,
   "metadata": {
    "ExecuteTime": {
     "end_time": "2020-06-28T18:24:27.701772Z",
     "start_time": "2020-06-28T18:24:27.564347Z"
    }
   },
   "outputs": [
    {
     "name": "stdout",
     "output_type": "stream",
     "text": [
      "M\tparams.yaml\r\n",
      "M\tsrc/evaluate.py\r\n",
      "Переключено на новую ветку «dvc-tutorial»\r\n"
     ]
    }
   ],
   "source": [
    "!git checkout -b dvc-tutorial"
   ]
  },
  {
   "cell_type": "markdown",
   "metadata": {
    "ExecuteTime": {
     "end_time": "2019-06-08T11:18:29.199273Z",
     "start_time": "2019-06-08T11:18:29.196865Z"
    }
   },
   "source": [
    "## Initialize DVC\n",
    "\n",
    "References: \n",
    "- https://dvc.org/doc/get-started/initialize "
   ]
  },
  {
   "cell_type": "code",
   "execution_count": 31,
   "metadata": {
    "ExecuteTime": {
     "end_time": "2020-06-28T18:24:31.604563Z",
     "start_time": "2020-06-28T18:24:30.084587Z"
    }
   },
   "outputs": [
    {
     "name": "stdout",
     "output_type": "stream",
     "text": [
      "\n",
      "You can now commit the changes to git.\n",
      "\n",
      "\u001b[31m+---------------------------------------------------------------------+\n",
      "\u001b[39m\u001b[31m|\u001b[39m                                                                     \u001b[31m|\u001b[39m\n",
      "\u001b[31m|\u001b[39m        DVC has enabled anonymous aggregate usage analytics.         \u001b[31m|\u001b[39m\n",
      "\u001b[31m|\u001b[39m     Read the analytics documentation (and how to opt-out) here:     \u001b[31m|\u001b[39m\n",
      "\u001b[31m|\u001b[39m              \u001b[34mhttps://dvc.org/doc/user-guide/analytics\u001b[39m               \u001b[31m|\u001b[39m\n",
      "\u001b[31m|\u001b[39m                                                                     \u001b[31m|\u001b[39m\n",
      "\u001b[31m+---------------------------------------------------------------------+\n",
      "\u001b[39m\n",
      "\u001b[33mWhat's next?\u001b[39m\n",
      "\u001b[33m------------\u001b[39m\n",
      "- Check out the documentation: \u001b[34mhttps://dvc.org/doc\u001b[39m\n",
      "- Get help and share ideas: \u001b[34mhttps://dvc.org/chat\u001b[39m\n",
      "- Star us on GitHub: \u001b[34mhttps://github.com/iterative/dvc\u001b[39m\n",
      "\u001b[0m"
     ]
    }
   ],
   "source": [
    "!dvc init"
   ]
  },
  {
   "cell_type": "markdown",
   "metadata": {},
   "source": [
    "## Commit changes"
   ]
  },
  {
   "cell_type": "code",
   "execution_count": 32,
   "metadata": {
    "ExecuteTime": {
     "end_time": "2020-06-28T18:24:33.748108Z",
     "start_time": "2020-06-28T18:24:33.683967Z"
    }
   },
   "outputs": [
    {
     "name": "stdout",
     "output_type": "stream",
     "text": [
      "[dvc-tutorial 553878c] Initialize DVC\n",
      " 6 files changed, 128 insertions(+)\n",
      " create mode 100644 .dvc/.gitignore\n",
      " create mode 100644 .dvc/config\n",
      " create mode 100644 .dvc/plots/confusion.json\n",
      " create mode 100644 .dvc/plots/default.json\n",
      " create mode 100644 .dvc/plots/scatter.json\n",
      " create mode 100644 .dvc/plots/smooth.json\n"
     ]
    }
   ],
   "source": [
    "%%bash\n",
    "\n",
    "git add .\n",
    "git commit -m \"Initialize DVC\""
   ]
  },
  {
   "cell_type": "markdown",
   "metadata": {},
   "source": [
    "# Build automated pipelines"
   ]
  },
  {
   "cell_type": "markdown",
   "metadata": {},
   "source": [
    "## Create `data_load` stage\n"
   ]
  },
  {
   "cell_type": "code",
   "execution_count": 33,
   "metadata": {
    "ExecuteTime": {
     "end_time": "2020-06-28T18:25:47.827112Z",
     "start_time": "2020-06-28T18:25:47.705834Z"
    }
   },
   "outputs": [],
   "source": [
    "!mkdir -p data"
   ]
  },
  {
   "cell_type": "code",
   "execution_count": 34,
   "metadata": {
    "ExecuteTime": {
     "end_time": "2020-06-28T18:26:01.893642Z",
     "start_time": "2020-06-28T18:25:50.343794Z"
    }
   },
   "outputs": [
    {
     "name": "stdout",
     "output_type": "stream",
     "text": [
      "Running stage 'data_load' with command:                                         \n",
      "\tpython src/data_load.py --config=params.yaml\n",
      "Creating 'dvc.yaml'                                                             \n",
      "Adding stage 'data_load' in 'dvc.yaml'\n",
      "Generating lock file 'dvc.lock'\n",
      "\n",
      "To track the changes with git, run:\n",
      "\n",
      "\tgit add dvc.yaml dvc.lock\n",
      "\u001b[0m"
     ]
    }
   ],
   "source": [
    "!dvc run -n data_load \\\n",
    "    -d src/data_load.py \\\n",
    "    -o data/iris.csv \\\n",
    "    -o data/classes.json \\\n",
    "    -p data_load \\\n",
    "    python src/data_load.py \\\n",
    "        --config=params.yaml"
   ]
  },
  {
   "cell_type": "code",
   "execution_count": 35,
   "metadata": {
    "ExecuteTime": {
     "end_time": "2020-06-28T18:26:09.834509Z",
     "start_time": "2020-06-28T18:26:09.815101Z"
    }
   },
   "outputs": [
    {
     "name": "stdout",
     "output_type": "stream",
     "text": [
      "4,0K\tdata/classes.json\n",
      "4,0K\tdata/iris.csv\n"
     ]
    }
   ],
   "source": [
    "%%bash\n",
    "\n",
    "du -sh data/*"
   ]
  },
  {
   "cell_type": "code",
   "execution_count": 7,
   "metadata": {
    "ExecuteTime": {
     "end_time": "2020-06-28T18:38:40.854507Z",
     "start_time": "2020-06-28T18:38:40.136357Z"
    }
   },
   "outputs": [
    {
     "name": "stdout",
     "output_type": "stream",
     "text": [
      "\u001b[01;34m.\u001b[00m\r\n",
      "├── \u001b[01;34mdata\u001b[00m\r\n",
      "│   ├── classes.json\r\n",
      "│   └── iris.csv\r\n",
      "├── dvc-3-automate-experiments.ipynb\r\n",
      "├── dvc.lock\r\n",
      "├── dvc.yaml\r\n",
      "├── params.yaml\r\n",
      "├── README.md\r\n",
      "├── requirements.txt\r\n",
      "└── \u001b[01;34msrc\u001b[00m\r\n",
      "    ├── data_load.py\r\n",
      "    ├── evaluate.py\r\n",
      "    ├── featurization.py\r\n",
      "    ├── __init__.py\r\n",
      "    ├── split_dataset.py\r\n",
      "    └── train.py\r\n",
      "\r\n",
      "2 directories, 14 files\r\n"
     ]
    }
   ],
   "source": [
    "!tree -I venv-dvc-3-automate-experiments"
   ]
  },
  {
   "cell_type": "markdown",
   "metadata": {},
   "source": [
    "## dvc.yaml"
   ]
  },
  {
   "cell_type": "code",
   "execution_count": 8,
   "metadata": {
    "ExecuteTime": {
     "end_time": "2020-06-28T18:58:46.041031Z",
     "start_time": "2020-06-28T18:58:45.905363Z"
    }
   },
   "outputs": [
    {
     "name": "stdout",
     "output_type": "stream",
     "text": [
      "stages:\r\n",
      "  data_load:\r\n",
      "    cmd: python src/data_load.py --config=params.yaml\r\n",
      "    deps:\r\n",
      "    - src/data_load.py\r\n",
      "    params:\r\n",
      "    - data_load\r\n",
      "    outs:\r\n",
      "    - data/classes.json\r\n",
      "    - data/iris.csv\r\n"
     ]
    }
   ],
   "source": [
    "!cat dvc.yaml"
   ]
  },
  {
   "cell_type": "markdown",
   "metadata": {},
   "source": [
    "## params.yaml"
   ]
  },
  {
   "cell_type": "code",
   "execution_count": 10,
   "metadata": {
    "ExecuteTime": {
     "end_time": "2020-06-28T19:03:56.479349Z",
     "start_time": "2020-06-28T19:03:56.357183Z"
    },
    "scrolled": true
   },
   "outputs": [
    {
     "name": "stdout",
     "output_type": "stream",
     "text": [
      "\r\n",
      "data_load:\r\n",
      "  raw_data_path: data/iris.csv\r\n",
      "  classes_names_path: data/classes.json\r\n",
      "\r\n",
      "featurize:\r\n",
      "  features_path: data/iris_featurized.csv\r\n",
      "  target_column: target\r\n",
      "\r\n",
      "\r\n",
      "data_split:\r\n",
      "  test_size: 0.2\r\n",
      "  train_path: data/train.csv\r\n",
      "  test_path: data/test.csv\r\n",
      "\r\n",
      "\r\n",
      "train:\r\n",
      "  model_path: data/model.joblib\r\n",
      "\r\n",
      "\r\n",
      "evaluate:\r\n",
      "  metrics_file: data/metrics.json\r\n",
      "  confusion_matrix: data/cm.json\r\n"
     ]
    }
   ],
   "source": [
    "!cat params.yaml"
   ]
  },
  {
   "cell_type": "markdown",
   "metadata": {},
   "source": [
    "## Reproduce a pipeline"
   ]
  },
  {
   "cell_type": "code",
   "execution_count": 11,
   "metadata": {
    "ExecuteTime": {
     "end_time": "2020-06-28T19:01:45.615105Z",
     "start_time": "2020-06-28T19:01:44.004234Z"
    }
   },
   "outputs": [
    {
     "name": "stdout",
     "output_type": "stream",
     "text": [
      "Stage 'data_load' didn't change, skipping                                       \n",
      "Data and pipelines are up to date.\n",
      "\u001b[0m"
     ]
    }
   ],
   "source": [
    "!dvc repro"
   ]
  },
  {
   "cell_type": "markdown",
   "metadata": {},
   "source": [
    "## Change params.yaml and reproduce \n",
    "\n",
    "Add a new line into `data_load` section:\n",
    "    `dummy_param: dummy_value`"
   ]
  },
  {
   "cell_type": "code",
   "execution_count": 12,
   "metadata": {
    "ExecuteTime": {
     "end_time": "2020-06-28T19:04:58.116049Z",
     "start_time": "2020-06-28T19:04:55.593868Z"
    }
   },
   "outputs": [
    {
     "name": "stdout",
     "output_type": "stream",
     "text": [
      "Running stage 'data_load' with command:                                         \n",
      "\tpython src/data_load.py --config=params.yaml\n",
      "Updating lock file 'dvc.lock'                                                   \n",
      "\n",
      "To track the changes with git, run:\n",
      "\n",
      "\tgit add dvc.lock\n",
      "\u001b[0m"
     ]
    }
   ],
   "source": [
    "!dvc repro"
   ]
  },
  {
   "cell_type": "markdown",
   "metadata": {},
   "source": [
    "## Check params diff"
   ]
  },
  {
   "cell_type": "code",
   "execution_count": 13,
   "metadata": {
    "ExecuteTime": {
     "end_time": "2020-06-28T19:08:46.916592Z",
     "start_time": "2020-06-28T19:08:44.878240Z"
    }
   },
   "outputs": [
    {
     "name": "stdout",
     "output_type": "stream",
     "text": [
      "Path         Param                  Old    New                                  \n",
      "params.yaml  data_load.dummy_param  None   dummy_value\n",
      "\u001b[0m"
     ]
    }
   ],
   "source": [
    "!dvc params diff"
   ]
  },
  {
   "cell_type": "markdown",
   "metadata": {},
   "source": [
    "# Build end-to-end Machine Learning pipeline\n",
    "Stages \n",
    "- extract features \n",
    "- split dataset \n",
    "- train \n",
    "- evaluate \n"
   ]
  },
  {
   "cell_type": "markdown",
   "metadata": {},
   "source": [
    "## Add feature extraction stage"
   ]
  },
  {
   "cell_type": "code",
   "execution_count": 36,
   "metadata": {
    "ExecuteTime": {
     "end_time": "2019-06-09T07:58:32.857924Z",
     "start_time": "2019-06-09T07:58:29.782395Z"
    }
   },
   "outputs": [
    {
     "name": "stdout",
     "output_type": "stream",
     "text": [
      "Running stage 'feature_extraction' with command:                                \n",
      "\tpython src/featurization.py --config=params.yaml\n",
      "Adding stage 'feature_extraction' in 'dvc.yaml'                                 \n",
      "Updating lock file 'dvc.lock'\n",
      "\n",
      "To track the changes with git, run:\n",
      "\n",
      "\tgit add dvc.lock dvc.yaml\n",
      "\u001b[0m"
     ]
    }
   ],
   "source": [
    "!dvc run -n feature_extraction \\\n",
    "    -d src/featurization.py \\\n",
    "    -d data/iris.csv \\\n",
    "    -o data/iris_featurized.csv \\\n",
    "    -p data_load,featurize \\\n",
    "    python src/featurization.py \\\n",
    "        --config=params.yaml"
   ]
  },
  {
   "cell_type": "code",
   "execution_count": 37,
   "metadata": {
    "ExecuteTime": {
     "end_time": "2019-06-09T07:58:34.824380Z",
     "start_time": "2019-06-09T07:58:34.685732Z"
    }
   },
   "outputs": [
    {
     "name": "stdout",
     "output_type": "stream",
     "text": [
      "data\t\t\t\t  dvc.yaml     requirements.txt\r\n",
      "dvc-3-automate-experiments.ipynb  params.yaml  src\r\n",
      "dvc.lock\t\t\t  README.md    venv-dvc-3-automate-experiments\r\n"
     ]
    }
   ],
   "source": [
    "!ls "
   ]
  },
  {
   "cell_type": "code",
   "execution_count": 38,
   "metadata": {
    "ExecuteTime": {
     "end_time": "2019-06-09T07:58:42.456176Z",
     "start_time": "2019-06-09T07:58:42.309322Z"
    }
   },
   "outputs": [
    {
     "name": "stdout",
     "output_type": "stream",
     "text": [
      "stages:\r\n",
      "  data_load:\r\n",
      "    cmd: python src/data_load.py --config=params.yaml\r\n",
      "    deps:\r\n",
      "    - src/data_load.py\r\n",
      "    params:\r\n",
      "    - data_load\r\n",
      "    outs:\r\n",
      "    - data/classes.json\r\n",
      "    - data/iris.csv\r\n",
      "  feature_extraction:\r\n",
      "    cmd: python src/featurization.py --config=params.yaml\r\n",
      "    deps:\r\n",
      "    - data/iris.csv\r\n",
      "    - src/featurization.py\r\n",
      "    params:\r\n",
      "    - data_load\r\n",
      "    - featurize\r\n",
      "    outs:\r\n",
      "    - data/iris_featurized.csv\r\n"
     ]
    }
   ],
   "source": [
    "!cat dvc.yaml"
   ]
  },
  {
   "cell_type": "code",
   "execution_count": 39,
   "metadata": {
    "ExecuteTime": {
     "end_time": "2019-06-09T07:58:45.137739Z",
     "start_time": "2019-06-09T07:58:45.125056Z"
    }
   },
   "outputs": [
    {
     "data": {
      "text/html": [
       "<div>\n",
       "<style scoped>\n",
       "    .dataframe tbody tr th:only-of-type {\n",
       "        vertical-align: middle;\n",
       "    }\n",
       "\n",
       "    .dataframe tbody tr th {\n",
       "        vertical-align: top;\n",
       "    }\n",
       "\n",
       "    .dataframe thead th {\n",
       "        text-align: right;\n",
       "    }\n",
       "</style>\n",
       "<table border=\"1\" class=\"dataframe\">\n",
       "  <thead>\n",
       "    <tr style=\"text-align: right;\">\n",
       "      <th></th>\n",
       "      <th>sepal_length</th>\n",
       "      <th>sepal_width</th>\n",
       "      <th>petal_length</th>\n",
       "      <th>petal_width</th>\n",
       "      <th>target</th>\n",
       "    </tr>\n",
       "  </thead>\n",
       "  <tbody>\n",
       "    <tr>\n",
       "      <th>0</th>\n",
       "      <td>5.1</td>\n",
       "      <td>3.5</td>\n",
       "      <td>1.4</td>\n",
       "      <td>0.2</td>\n",
       "      <td>0</td>\n",
       "    </tr>\n",
       "    <tr>\n",
       "      <th>1</th>\n",
       "      <td>4.9</td>\n",
       "      <td>3.0</td>\n",
       "      <td>1.4</td>\n",
       "      <td>0.2</td>\n",
       "      <td>0</td>\n",
       "    </tr>\n",
       "    <tr>\n",
       "      <th>2</th>\n",
       "      <td>4.7</td>\n",
       "      <td>3.2</td>\n",
       "      <td>1.3</td>\n",
       "      <td>0.2</td>\n",
       "      <td>0</td>\n",
       "    </tr>\n",
       "    <tr>\n",
       "      <th>3</th>\n",
       "      <td>4.6</td>\n",
       "      <td>3.1</td>\n",
       "      <td>1.5</td>\n",
       "      <td>0.2</td>\n",
       "      <td>0</td>\n",
       "    </tr>\n",
       "    <tr>\n",
       "      <th>4</th>\n",
       "      <td>5.0</td>\n",
       "      <td>3.6</td>\n",
       "      <td>1.4</td>\n",
       "      <td>0.2</td>\n",
       "      <td>0</td>\n",
       "    </tr>\n",
       "  </tbody>\n",
       "</table>\n",
       "</div>"
      ],
      "text/plain": [
       "   sepal_length  sepal_width  petal_length  petal_width  target\n",
       "0           5.1          3.5           1.4          0.2       0\n",
       "1           4.9          3.0           1.4          0.2       0\n",
       "2           4.7          3.2           1.3          0.2       0\n",
       "3           4.6          3.1           1.5          0.2       0\n",
       "4           5.0          3.6           1.4          0.2       0"
      ]
     },
     "execution_count": 39,
     "metadata": {},
     "output_type": "execute_result"
    }
   ],
   "source": [
    "import pandas as pd\n",
    "\n",
    "features = pd.read_csv('data/iris_featurized.csv')\n",
    "features.head()"
   ]
  },
  {
   "cell_type": "code",
   "execution_count": 40,
   "metadata": {
    "ExecuteTime": {
     "end_time": "2019-06-09T07:58:58.353583Z",
     "start_time": "2019-06-09T07:58:58.220616Z"
    }
   },
   "outputs": [
    {
     "name": "stdout",
     "output_type": "stream",
     "text": [
      "\u001b[31m??\u001b[m dvc.lock\r\n",
      "\u001b[31m??\u001b[m dvc.yaml\r\n"
     ]
    }
   ],
   "source": [
    "!git status -s"
   ]
  },
  {
   "cell_type": "code",
   "execution_count": 41,
   "metadata": {
    "ExecuteTime": {
     "end_time": "2019-06-09T07:59:00.390390Z",
     "start_time": "2019-06-09T07:59:00.349046Z"
    }
   },
   "outputs": [
    {
     "name": "stdout",
     "output_type": "stream",
     "text": [
      "[dvc-tutorial 0f3109c] Add stage features_extraction\n",
      " 2 files changed, 53 insertions(+)\n",
      " create mode 100644 dvc.lock\n",
      " create mode 100644 dvc.yaml\n"
     ]
    }
   ],
   "source": [
    "%%bash\n",
    "git add .\n",
    "git commit -m \"Add stage features_extraction\""
   ]
  },
  {
   "cell_type": "markdown",
   "metadata": {},
   "source": [
    "## Add split train/test stage"
   ]
  },
  {
   "cell_type": "code",
   "execution_count": 42,
   "metadata": {
    "ExecuteTime": {
     "end_time": "2019-06-09T08:03:19.195387Z",
     "start_time": "2019-06-09T08:03:16.161864Z"
    }
   },
   "outputs": [
    {
     "name": "stdout",
     "output_type": "stream",
     "text": [
      "Running stage 'split_dataset' with command:                                     \n",
      "\tpython src/split_dataset.py --config=params.yaml\n",
      "Adding stage 'split_dataset' in 'dvc.yaml'                                      \n",
      "Updating lock file 'dvc.lock'\n",
      "\n",
      "To track the changes with git, run:\n",
      "\n",
      "\tgit add dvc.yaml dvc.lock\n",
      "\u001b[0m"
     ]
    }
   ],
   "source": [
    "!dvc run -n split_dataset \\\n",
    "    -d src/split_dataset.py \\\n",
    "    -d data/iris_featurized.csv \\\n",
    "    -o data/train.csv \\\n",
    "    -o data/test.csv \\\n",
    "    -p featurize,data_split \\\n",
    "        python src/split_dataset.py \\\n",
    "            --config=params.yaml"
   ]
  },
  {
   "cell_type": "code",
   "execution_count": 43,
   "metadata": {
    "ExecuteTime": {
     "end_time": "2019-06-09T08:04:09.416332Z",
     "start_time": "2019-06-09T08:04:09.290348Z"
    }
   },
   "outputs": [
    {
     "name": "stdout",
     "output_type": "stream",
     "text": [
      "stages:\r\n",
      "  data_load:\r\n",
      "    cmd: python src/data_load.py --config=params.yaml\r\n",
      "    deps:\r\n",
      "    - src/data_load.py\r\n",
      "    params:\r\n",
      "    - data_load\r\n",
      "    outs:\r\n",
      "    - data/classes.json\r\n",
      "    - data/iris.csv\r\n",
      "  feature_extraction:\r\n",
      "    cmd: python src/featurization.py --config=params.yaml\r\n",
      "    deps:\r\n",
      "    - data/iris.csv\r\n",
      "    - src/featurization.py\r\n",
      "    params:\r\n",
      "    - data_load\r\n",
      "    - featurize\r\n",
      "    outs:\r\n",
      "    - data/iris_featurized.csv\r\n",
      "  split_dataset:\r\n",
      "    cmd: python src/split_dataset.py --config=params.yaml\r\n",
      "    deps:\r\n",
      "    - data/iris_featurized.csv\r\n",
      "    - src/split_dataset.py\r\n",
      "    params:\r\n",
      "    - data_split\r\n",
      "    - featurize\r\n",
      "    outs:\r\n",
      "    - data/test.csv\r\n",
      "    - data/train.csv\r\n"
     ]
    }
   ],
   "source": [
    "!cat dvc.yaml"
   ]
  },
  {
   "cell_type": "code",
   "execution_count": 44,
   "metadata": {},
   "outputs": [
    {
     "name": "stdout",
     "output_type": "stream",
     "text": [
      "[dvc-tutorial 408c149] Add stage split_dataset\n",
      " 2 files changed, 32 insertions(+)\n"
     ]
    }
   ],
   "source": [
    "%%bash\n",
    "git add .\n",
    "git commit -m \"Add stage split_dataset\""
   ]
  },
  {
   "cell_type": "markdown",
   "metadata": {},
   "source": [
    "## Add train stage"
   ]
  },
  {
   "cell_type": "code",
   "execution_count": 45,
   "metadata": {
    "ExecuteTime": {
     "end_time": "2019-06-09T08:04:16.215376Z",
     "start_time": "2019-06-09T08:04:12.730565Z"
    }
   },
   "outputs": [
    {
     "name": "stdout",
     "output_type": "stream",
     "text": [
      "Running stage 'train' with command:                                             \n",
      "\tpython src/train.py --config=params.yaml\n",
      "Adding stage 'train' in 'dvc.yaml'                                              \n",
      "Updating lock file 'dvc.lock'\n",
      "\n",
      "To track the changes with git, run:\n",
      "\n",
      "\tgit add dvc.yaml dvc.lock\n",
      "\u001b[0m"
     ]
    }
   ],
   "source": [
    "!dvc run -n train \\\n",
    "    -d src/train.py \\\n",
    "    -d data/train.csv \\\n",
    "    -o data/model.joblib \\\n",
    "    -p data_split,train \\\n",
    "        python src/train.py \\\n",
    "            --config=params.yaml"
   ]
  },
  {
   "cell_type": "code",
   "execution_count": 46,
   "metadata": {
    "ExecuteTime": {
     "end_time": "2019-06-09T08:04:19.680639Z",
     "start_time": "2019-06-09T08:04:19.555520Z"
    }
   },
   "outputs": [
    {
     "name": "stdout",
     "output_type": "stream",
     "text": [
      "stages:\r\n",
      "  data_load:\r\n",
      "    cmd: python src/data_load.py --config=params.yaml\r\n",
      "    deps:\r\n",
      "    - src/data_load.py\r\n",
      "    params:\r\n",
      "    - data_load\r\n",
      "    outs:\r\n",
      "    - data/classes.json\r\n",
      "    - data/iris.csv\r\n",
      "  feature_extraction:\r\n",
      "    cmd: python src/featurization.py --config=params.yaml\r\n",
      "    deps:\r\n",
      "    - data/iris.csv\r\n",
      "    - src/featurization.py\r\n",
      "    params:\r\n",
      "    - data_load\r\n",
      "    - featurize\r\n",
      "    outs:\r\n",
      "    - data/iris_featurized.csv\r\n",
      "  split_dataset:\r\n",
      "    cmd: python src/split_dataset.py --config=params.yaml\r\n",
      "    deps:\r\n",
      "    - data/iris_featurized.csv\r\n",
      "    - src/split_dataset.py\r\n",
      "    params:\r\n",
      "    - data_split\r\n",
      "    - featurize\r\n",
      "    outs:\r\n",
      "    - data/test.csv\r\n",
      "    - data/train.csv\r\n",
      "  train:\r\n",
      "    cmd: python src/train.py --config=params.yaml\r\n",
      "    deps:\r\n",
      "    - data/train.csv\r\n",
      "    - src/train.py\r\n",
      "    params:\r\n",
      "    - data_split\r\n",
      "    - train\r\n",
      "    outs:\r\n",
      "    - data/model.joblib\r\n"
     ]
    }
   ],
   "source": [
    "!cat dvc.yaml"
   ]
  },
  {
   "cell_type": "code",
   "execution_count": 47,
   "metadata": {},
   "outputs": [
    {
     "name": "stdout",
     "output_type": "stream",
     "text": [
      "[dvc-tutorial f186366] Add stage train\n",
      " 2 files changed, 28 insertions(+)\n"
     ]
    }
   ],
   "source": [
    "%%bash\n",
    "git add .\n",
    "git commit -m \"Add stage train\""
   ]
  },
  {
   "cell_type": "markdown",
   "metadata": {},
   "source": [
    "## Add evaluate stage"
   ]
  },
  {
   "cell_type": "code",
   "execution_count": 48,
   "metadata": {
    "ExecuteTime": {
     "end_time": "2019-06-09T08:04:26.605414Z",
     "start_time": "2019-06-09T08:04:23.480915Z"
    }
   },
   "outputs": [
    {
     "name": "stdout",
     "output_type": "stream",
     "text": [
      "Running stage 'evaluate' with command:                                          \n",
      "\tpython src/evaluate.py --config=params.yaml\n",
      "Adding stage 'evaluate' in 'dvc.yaml'                                           \n",
      "Updating lock file 'dvc.lock'\n",
      "\n",
      "To track the changes with git, run:\n",
      "\n",
      "\tgit add dvc.lock dvc.yaml\n",
      "\u001b[0m"
     ]
    }
   ],
   "source": [
    "!dvc run -n evaluate \\\n",
    "    -d src/evaluate.py \\\n",
    "    -d data/test.csv \\\n",
    "    -d data/model.joblib \\\n",
    "    -d data/classes.json \\\n",
    "    -m data/metrics.json \\\n",
    "    --plots data/cm.csv \\\n",
    "    -p data_load,data_split,train,evaluate \\\n",
    "        python src/evaluate.py \\\n",
    "            --config=params.yaml"
   ]
  },
  {
   "cell_type": "code",
   "execution_count": 49,
   "metadata": {
    "ExecuteTime": {
     "end_time": "2020-06-07T20:55:35.455329Z",
     "start_time": "2020-06-07T20:55:35.319436Z"
    }
   },
   "outputs": [
    {
     "name": "stdout",
     "output_type": "stream",
     "text": [
      "stages:\r\n",
      "  data_load:\r\n",
      "    cmd: python src/data_load.py --config=params.yaml\r\n",
      "    deps:\r\n",
      "    - src/data_load.py\r\n",
      "    params:\r\n",
      "    - data_load\r\n",
      "    outs:\r\n",
      "    - data/classes.json\r\n",
      "    - data/iris.csv\r\n",
      "  feature_extraction:\r\n",
      "    cmd: python src/featurization.py --config=params.yaml\r\n",
      "    deps:\r\n",
      "    - data/iris.csv\r\n",
      "    - src/featurization.py\r\n",
      "    params:\r\n",
      "    - data_load\r\n",
      "    - featurize\r\n",
      "    outs:\r\n",
      "    - data/iris_featurized.csv\r\n",
      "  split_dataset:\r\n",
      "    cmd: python src/split_dataset.py --config=params.yaml\r\n",
      "    deps:\r\n",
      "    - data/iris_featurized.csv\r\n",
      "    - src/split_dataset.py\r\n",
      "    params:\r\n",
      "    - data_split\r\n",
      "    - featurize\r\n",
      "    outs:\r\n",
      "    - data/test.csv\r\n",
      "    - data/train.csv\r\n",
      "  train:\r\n",
      "    cmd: python src/train.py --config=params.yaml\r\n",
      "    deps:\r\n",
      "    - data/train.csv\r\n",
      "    - src/train.py\r\n",
      "    params:\r\n",
      "    - data_split\r\n",
      "    - train\r\n",
      "    outs:\r\n",
      "    - data/model.joblib\r\n",
      "  evaluate:\r\n",
      "    cmd: python src/evaluate.py --config=params.yaml\r\n",
      "    deps:\r\n",
      "    - data/classes.json\r\n",
      "    - data/model.joblib\r\n",
      "    - data/test.csv\r\n",
      "    - src/evaluate.py\r\n",
      "    params:\r\n",
      "    - data_load\r\n",
      "    - data_split\r\n",
      "    - evaluate\r\n",
      "    - train\r\n",
      "    metrics:\r\n",
      "    - data/metrics.json\r\n",
      "    plots:\r\n",
      "    - data/cm.csv\r\n"
     ]
    }
   ],
   "source": [
    "!cat dvc.yaml"
   ]
  },
  {
   "cell_type": "code",
   "execution_count": 50,
   "metadata": {},
   "outputs": [
    {
     "name": "stdout",
     "output_type": "stream",
     "text": [
      "[dvc-tutorial e72effe] Add stage evaluate\n",
      " 2 files changed, 46 insertions(+)\n"
     ]
    }
   ],
   "source": [
    "%%bash\n",
    "git add .\n",
    "git commit -m \"Add stage evaluate\""
   ]
  },
  {
   "cell_type": "code",
   "execution_count": null,
   "metadata": {
    "ExecuteTime": {
     "end_time": "2020-06-28T17:23:10.812463Z",
     "start_time": "2020-06-28T17:23:09.886129Z"
    }
   },
   "outputs": [],
   "source": []
  },
  {
   "cell_type": "markdown",
   "metadata": {},
   "source": [
    "# Experimenting with reproducible pipelines"
   ]
  },
  {
   "cell_type": "markdown",
   "metadata": {},
   "source": [
    "## How reproduce experiments?"
   ]
  },
  {
   "cell_type": "markdown",
   "metadata": {},
   "source": [
    "> The most exciting part of DVC is reproducibility.\n",
    ">> Reproducibility is the time you are getting benefits out of DVC instead of spending time defining the ML pipelines.\n",
    "\n",
    "> DVC tracks all the dependencies, which helps you iterate on ML models faster without thinking what was affected by your last change.\n",
    ">> In order to track all the dependencies, DVC finds and reads ALL the DVC-files in a repository and builds a dependency graph (DAG) based on these files.\n",
    "\n",
    "> This is one of the differences between DVC reproducibility and traditional Makefile-like build automation tools (Make, Maven, Ant, Rakefile etc). It was designed in such a way to localize specification of DAG nodes.\n",
    "If you run repro on any created DVC-file from our repository, nothing happens because nothing was changed in the defined pipeline.\n",
    "\n",
    "(c) dvc.org https://dvc.org/doc/tutorial/reproducibility"
   ]
  },
  {
   "cell_type": "code",
   "execution_count": 51,
   "metadata": {
    "ExecuteTime": {
     "end_time": "2019-06-09T08:05:03.824843Z",
     "start_time": "2019-06-09T08:05:01.988326Z"
    }
   },
   "outputs": [
    {
     "name": "stdout",
     "output_type": "stream",
     "text": [
      "Stage 'data_load' didn't change, skipping                                       \n",
      "Stage 'feature_extraction' didn't change, skipping\n",
      "Stage 'split_dataset' didn't change, skipping\n",
      "Stage 'train' didn't change, skipping\n",
      "Stage 'evaluate' didn't change, skipping\n",
      "Data and pipelines are up to date.\n",
      "\u001b[0m"
     ]
    }
   ],
   "source": [
    "# Nothing to reproduce\n",
    "!dvc repro"
   ]
  },
  {
   "cell_type": "markdown",
   "metadata": {},
   "source": [
    "## Experiment 1: Add features\n",
    "\n"
   ]
  },
  {
   "cell_type": "markdown",
   "metadata": {},
   "source": [
    "### Create new experiment branch\n",
    "\n",
    "Before editing the code/featurization.py file, please create and checkout a new branch __ratio_features__"
   ]
  },
  {
   "cell_type": "code",
   "execution_count": 52,
   "metadata": {
    "ExecuteTime": {
     "end_time": "2019-06-09T08:05:13.610402Z",
     "start_time": "2019-06-09T08:05:13.475428Z"
    }
   },
   "outputs": [
    {
     "name": "stdout",
     "output_type": "stream",
     "text": [
      "Переключено на новую ветку «exp1-ratio-features»\n",
      "  dev\u001b[m\n",
      "  dev-update-pipelines\u001b[m\n",
      "  dvc-tutorial\u001b[m\n",
      "* \u001b[32mexp1-ratio-features\u001b[m\n",
      "  master\u001b[m\n",
      "  update-software\u001b[m\n"
     ]
    }
   ],
   "source": [
    "# create new branch\n",
    "\n",
    "!git checkout -b exp1-ratio-features\n",
    "!git branch"
   ]
  },
  {
   "cell_type": "markdown",
   "metadata": {},
   "source": [
    "### Update featurization.py"
   ]
  },
  {
   "cell_type": "markdown",
   "metadata": {},
   "source": [
    "in file __featurization.py__  in function`get_features()` after line \n",
    "\n",
    "```python\n",
    "    features = dataset.copy()\n",
    "```\n",
    "\n",
    "add lines:\n",
    "\n",
    "```python\n",
    "    features['sepal_length_to_sepal_width'] = features['sepal_length'] / features['sepal_width']\n",
    "    features['petal_length_to_petal_width'] = features['petal_length'] / features['petal_width']\n",
    "```"
   ]
  },
  {
   "cell_type": "markdown",
   "metadata": {},
   "source": [
    "### Reproduce pipeline "
   ]
  },
  {
   "cell_type": "code",
   "execution_count": 53,
   "metadata": {
    "ExecuteTime": {
     "end_time": "2019-06-09T08:05:52.180729Z",
     "start_time": "2019-06-09T08:05:45.603809Z"
    },
    "scrolled": true
   },
   "outputs": [
    {
     "name": "stdout",
     "output_type": "stream",
     "text": [
      "Stage 'data_load' didn't change, skipping                                       \n",
      "Running stage 'feature_extraction' with command:\n",
      "\tpython src/featurization.py --config=params.yaml\n",
      "Updating lock file 'dvc.lock'                                                   \n",
      "\n",
      "Running stage 'split_dataset' with command:\n",
      "\tpython src/split_dataset.py --config=params.yaml\n",
      "Updating lock file 'dvc.lock'                                                   \n",
      "\n",
      "Running stage 'train' with command:\n",
      "\tpython src/train.py --config=params.yaml\n",
      "Updating lock file 'dvc.lock'                                                   \n",
      "\n",
      "Running stage 'evaluate' with command:\n",
      "\tpython src/evaluate.py --config=params.yaml\n",
      "Updating lock file 'dvc.lock'                                                   \n",
      "\n",
      "To track the changes with git, run:\n",
      "\n",
      "\tgit add dvc.lock\n",
      "\u001b[0m"
     ]
    }
   ],
   "source": [
    "!dvc repro"
   ]
  },
  {
   "cell_type": "code",
   "execution_count": 54,
   "metadata": {
    "ExecuteTime": {
     "end_time": "2020-06-07T20:58:09.139024Z",
     "start_time": "2020-06-07T20:58:09.126764Z"
    }
   },
   "outputs": [
    {
     "data": {
      "text/html": [
       "<div>\n",
       "<style scoped>\n",
       "    .dataframe tbody tr th:only-of-type {\n",
       "        vertical-align: middle;\n",
       "    }\n",
       "\n",
       "    .dataframe tbody tr th {\n",
       "        vertical-align: top;\n",
       "    }\n",
       "\n",
       "    .dataframe thead th {\n",
       "        text-align: right;\n",
       "    }\n",
       "</style>\n",
       "<table border=\"1\" class=\"dataframe\">\n",
       "  <thead>\n",
       "    <tr style=\"text-align: right;\">\n",
       "      <th></th>\n",
       "      <th>sepal_length</th>\n",
       "      <th>sepal_width</th>\n",
       "      <th>petal_length</th>\n",
       "      <th>petal_width</th>\n",
       "      <th>target</th>\n",
       "      <th>sepal_length_to_sepal_width</th>\n",
       "      <th>petal_length_to_petal_width</th>\n",
       "    </tr>\n",
       "  </thead>\n",
       "  <tbody>\n",
       "    <tr>\n",
       "      <th>0</th>\n",
       "      <td>5.1</td>\n",
       "      <td>3.5</td>\n",
       "      <td>1.4</td>\n",
       "      <td>0.2</td>\n",
       "      <td>0</td>\n",
       "      <td>1.457143</td>\n",
       "      <td>7.0</td>\n",
       "    </tr>\n",
       "    <tr>\n",
       "      <th>1</th>\n",
       "      <td>4.9</td>\n",
       "      <td>3.0</td>\n",
       "      <td>1.4</td>\n",
       "      <td>0.2</td>\n",
       "      <td>0</td>\n",
       "      <td>1.633333</td>\n",
       "      <td>7.0</td>\n",
       "    </tr>\n",
       "    <tr>\n",
       "      <th>2</th>\n",
       "      <td>4.7</td>\n",
       "      <td>3.2</td>\n",
       "      <td>1.3</td>\n",
       "      <td>0.2</td>\n",
       "      <td>0</td>\n",
       "      <td>1.468750</td>\n",
       "      <td>6.5</td>\n",
       "    </tr>\n",
       "    <tr>\n",
       "      <th>3</th>\n",
       "      <td>4.6</td>\n",
       "      <td>3.1</td>\n",
       "      <td>1.5</td>\n",
       "      <td>0.2</td>\n",
       "      <td>0</td>\n",
       "      <td>1.483871</td>\n",
       "      <td>7.5</td>\n",
       "    </tr>\n",
       "    <tr>\n",
       "      <th>4</th>\n",
       "      <td>5.0</td>\n",
       "      <td>3.6</td>\n",
       "      <td>1.4</td>\n",
       "      <td>0.2</td>\n",
       "      <td>0</td>\n",
       "      <td>1.388889</td>\n",
       "      <td>7.0</td>\n",
       "    </tr>\n",
       "  </tbody>\n",
       "</table>\n",
       "</div>"
      ],
      "text/plain": [
       "   sepal_length  sepal_width  petal_length  petal_width  target  \\\n",
       "0           5.1          3.5           1.4          0.2       0   \n",
       "1           4.9          3.0           1.4          0.2       0   \n",
       "2           4.7          3.2           1.3          0.2       0   \n",
       "3           4.6          3.1           1.5          0.2       0   \n",
       "4           5.0          3.6           1.4          0.2       0   \n",
       "\n",
       "   sepal_length_to_sepal_width  petal_length_to_petal_width  \n",
       "0                     1.457143                          7.0  \n",
       "1                     1.633333                          7.0  \n",
       "2                     1.468750                          6.5  \n",
       "3                     1.483871                          7.5  \n",
       "4                     1.388889                          7.0  "
      ]
     },
     "execution_count": 54,
     "metadata": {},
     "output_type": "execute_result"
    }
   ],
   "source": [
    "# Check features used in this pipeline\n",
    "\n",
    "import pandas as pd\n",
    "\n",
    "features = pd.read_csv('data/iris_featurized.csv')\n",
    "features.head()"
   ]
  },
  {
   "cell_type": "code",
   "execution_count": 55,
   "metadata": {},
   "outputs": [
    {
     "name": "stdout",
     "output_type": "stream",
     "text": [
      "На ветке exp1-ratio-features\r\n",
      "Изменения, которые не в индексе для коммита:\r\n",
      "  (используйте «git add <файл>…», чтобы добавить файл в индекс)\r\n",
      "  (используйте «git checkout -- <файл>…», чтобы отменить изменения\r\n",
      "   в рабочем каталоге)\r\n",
      "\r\n",
      "\t\u001b[31mизменено:      dvc-3-automate-experiments.ipynb\u001b[m\r\n",
      "\t\u001b[31mизменено:      dvc.lock\u001b[m\r\n",
      "\t\u001b[31mизменено:      src/featurization.py\u001b[m\r\n",
      "\r\n",
      "нет изменений добавленных для коммита\r\n",
      "(используйте «git add» и/или «git commit -a»)\r\n"
     ]
    }
   ],
   "source": [
    "!git status"
   ]
  },
  {
   "cell_type": "code",
   "execution_count": 56,
   "metadata": {},
   "outputs": [
    {
     "name": "stdout",
     "output_type": "stream",
     "text": [
      "Path               Metric    Value    Change                                    \n",
      "data/metrics.json  f1_score  0.15385  0.0\n",
      "\u001b[0m"
     ]
    }
   ],
   "source": [
    "# Get difference with metric from previous pipeline\n",
    "!dvc metrics diff --all"
   ]
  },
  {
   "cell_type": "code",
   "execution_count": 57,
   "metadata": {},
   "outputs": [
    {
     "name": "stdout",
     "output_type": "stream",
     "text": [
      "[exp1-ratio-features ae27d9e] Experiment with new features\n",
      " 3 files changed, 46 insertions(+), 62 deletions(-)\n",
      "fatal: метка «exp1_ratio_features» уже существует\n"
     ]
    }
   ],
   "source": [
    "!git add .\n",
    "!git commit -m \"Experiment with new features\"\n",
    "!git tag -a \"exp1_ratio_features\" -m \"Experiment with new features\""
   ]
  },
  {
   "cell_type": "markdown",
   "metadata": {},
   "source": [
    "## Experiment 2: Use SVM"
   ]
  },
  {
   "cell_type": "markdown",
   "metadata": {},
   "source": [
    "### Create new experiment branch"
   ]
  },
  {
   "cell_type": "code",
   "execution_count": 58,
   "metadata": {},
   "outputs": [
    {
     "name": "stdout",
     "output_type": "stream",
     "text": [
      "Переключено на новую ветку «exp2-svm»\n",
      "  dev\u001b[m\n",
      "  dev-update-pipelines\u001b[m\n",
      "  dvc-tutorial\u001b[m\n",
      "  exp1-ratio-features\u001b[m\n",
      "* \u001b[32mexp2-svm\u001b[m\n",
      "  master\u001b[m\n",
      "  update-software\u001b[m\n"
     ]
    }
   ],
   "source": [
    "!git checkout -b exp2-svm\n",
    "!git branch"
   ]
  },
  {
   "cell_type": "markdown",
   "metadata": {},
   "source": [
    "### Update train.py\n",
    "\n",
    "in file __train.py__ replace line\n",
    "\n",
    "```python\n",
    "    clf = LogisticRegression(C=0.00001, solver='lbfgs', multi_class='multinomial', max_iter=100)\n",
    "```\n",
    "\n",
    "with line\n",
    "\n",
    "```python\n",
    "    clf = SVC(C=0.01, kernel='linear', gamma='scale', degree=5)\n",
    "```\n"
   ]
  },
  {
   "cell_type": "markdown",
   "metadata": {},
   "source": [
    "### Reproduce pipeline "
   ]
  },
  {
   "cell_type": "code",
   "execution_count": 59,
   "metadata": {},
   "outputs": [
    {
     "name": "stdout",
     "output_type": "stream",
     "text": [
      "Stage 'data_load' didn't change, skipping                                       \n",
      "Running stage 'feature_extraction' with command:\n",
      "\tpython src/featurization.py --config=params.yaml\n",
      "Updating lock file 'dvc.lock'                                                   \n",
      "\n",
      "Stage 'split_dataset' didn't change, skipping\n",
      "Running stage 'train' with command:\n",
      "\tpython src/train.py --config=params.yaml\n",
      "Updating lock file 'dvc.lock'                                                   \n",
      "\n",
      "Running stage 'evaluate' with command:\n",
      "\tpython src/evaluate.py --config=params.yaml\n",
      "Updating lock file 'dvc.lock'                                                   \n",
      "\n",
      "To track the changes with git, run:\n",
      "\n",
      "\tgit add dvc.lock\n",
      "\u001b[0m"
     ]
    }
   ],
   "source": [
    "!dvc repro"
   ]
  },
  {
   "cell_type": "code",
   "execution_count": 60,
   "metadata": {},
   "outputs": [
    {
     "name": "stdout",
     "output_type": "stream",
     "text": [
      "На ветке exp2-svm\r\n",
      "Изменения, которые не в индексе для коммита:\r\n",
      "  (используйте «git add <файл>…», чтобы добавить файл в индекс)\r\n",
      "  (используйте «git checkout -- <файл>…», чтобы отменить изменения\r\n",
      "   в рабочем каталоге)\r\n",
      "\r\n",
      "\t\u001b[31mизменено:      dvc.lock\u001b[m\r\n",
      "\t\u001b[31mизменено:      src/featurization.py\u001b[m\r\n",
      "\t\u001b[31mизменено:      src/train.py\u001b[m\r\n",
      "\r\n",
      "нет изменений добавленных для коммита\r\n",
      "(используйте «git add» и/или «git commit -a»)\r\n"
     ]
    }
   ],
   "source": [
    "!git status"
   ]
  },
  {
   "cell_type": "code",
   "execution_count": 61,
   "metadata": {},
   "outputs": [
    {
     "name": "stdout",
     "output_type": "stream",
     "text": [
      "Path               Metric    Value    Change                                    \n",
      "data/metrics.json  f1_score  1.0      0.84615\n",
      "\u001b[0m"
     ]
    }
   ],
   "source": [
    "# Get difference with metric from previous pipeline\n",
    "!dvc metrics diff --all"
   ]
  },
  {
   "cell_type": "code",
   "execution_count": 63,
   "metadata": {},
   "outputs": [
    {
     "name": "stdout",
     "output_type": "stream",
     "text": [
      "На ветке exp2-svm\r\n",
      "нечего коммитить, нет изменений в рабочем каталоге\r\n"
     ]
    }
   ],
   "source": [
    "!git add .\n",
    "!git commit -m \"Experiment 2 with SVM estimator\"\n",
    "!git tag -a \"exp2_svm\" -m \"Experiment 2 with SVM estimator\""
   ]
  },
  {
   "cell_type": "markdown",
   "metadata": {},
   "source": [
    "## Params diffs "
   ]
  },
  {
   "cell_type": "code",
   "execution_count": 64,
   "metadata": {},
   "outputs": [
    {
     "name": "stdout",
     "output_type": "stream",
     "text": [
      "\u001b[0m                                                                            "
     ]
    }
   ],
   "source": [
    "# Get params diffs \n",
    "\n",
    "!dvc params diff"
   ]
  },
  {
   "cell_type": "code",
   "execution_count": 65,
   "metadata": {},
   "outputs": [
    {
     "name": "stdout",
     "output_type": "stream",
     "text": [
      "Path         Param                         Old                       New        \n",
      "params.yaml  data_load.classes_names_path  data/classes.json         data/classes.json\n",
      "params.yaml  data_load.raw_data_path       data/iris.csv             data/iris.csv\n",
      "params.yaml  data_split.test_path          data/test.csv             data/test.csv\n",
      "params.yaml  data_split.test_size          0.2                       0.2\n",
      "params.yaml  data_split.train_path         data/train.csv            data/train.csv\n",
      "params.yaml  evaluate.confusion_matrix     data/cm.csv               data/cm.csv\n",
      "params.yaml  evaluate.metrics_file         data/metrics.json         data/metrics.json\n",
      "params.yaml  featurize.features_path       data/iris_featurized.csv  data/iris_featurized.csv\n",
      "params.yaml  featurize.target_column       target                    target\n",
      "params.yaml  train.model_path              data/model.joblib         data/model.joblib\n",
      "\u001b[0m"
     ]
    }
   ],
   "source": [
    "# Compare parameters with a specific commit, a tag or any revision\n",
    "\n",
    "!dvc params diff --all"
   ]
  },
  {
   "cell_type": "code",
   "execution_count": 44,
   "metadata": {},
   "outputs": [
    {
     "name": "stdout",
     "output_type": "stream",
     "text": [
      "\u001b[31mERROR\u001b[39m: failed to show params diff - unknown Git revision 'e12b167'    \n",
      "\n",
      "\u001b[33mHaving any troubles?\u001b[39m Hit us up at \u001b[34mhttps://dvc.org/support\u001b[39m, we are always happy to help!\n",
      "\u001b[0m"
     ]
    }
   ],
   "source": [
    "# To see the difference between two specific commits, both need to be specified:\n",
    "\n",
    "!dvc params diff e12b167 HEAD^"
   ]
  },
  {
   "cell_type": "markdown",
   "metadata": {},
   "source": [
    "## Experiment 3: Tune Logistic Regression"
   ]
  },
  {
   "cell_type": "markdown",
   "metadata": {},
   "source": [
    "### Create a new experiment branch"
   ]
  },
  {
   "cell_type": "code",
   "execution_count": 66,
   "metadata": {
    "ExecuteTime": {
     "end_time": "2020-06-07T21:03:12.484229Z",
     "start_time": "2020-06-07T21:03:12.225792Z"
    }
   },
   "outputs": [
    {
     "name": "stdout",
     "output_type": "stream",
     "text": [
      "Переключено на новую ветку «exp3-tuning-logreg»\n",
      "  dev\u001b[m\n",
      "  dev-update-pipelines\u001b[m\n",
      "  dvc-tutorial\u001b[m\n",
      "  exp1-ratio-features\u001b[m\n",
      "  exp2-svm\u001b[m\n",
      "* \u001b[32mexp3-tuning-logreg\u001b[m\n",
      "  master\u001b[m\n",
      "  update-software\u001b[m\n"
     ]
    }
   ],
   "source": [
    "# create new branch for experiment\n",
    "\n",
    "!git checkout -b exp3-tuning-logreg\n",
    "!git branch"
   ]
  },
  {
   "cell_type": "code",
   "execution_count": 67,
   "metadata": {
    "ExecuteTime": {
     "end_time": "2019-06-09T08:09:45.296598Z",
     "start_time": "2019-06-09T08:09:43.437705Z"
    }
   },
   "outputs": [
    {
     "name": "stdout",
     "output_type": "stream",
     "text": [
      "\tdata/metrics.json:                                                             \n",
      "\t\tf1_score: 1.0\n",
      "\u001b[0m"
     ]
    }
   ],
   "source": [
    "!dvc metrics show"
   ]
  },
  {
   "cell_type": "code",
   "execution_count": 68,
   "metadata": {
    "ExecuteTime": {
     "end_time": "2019-06-09T08:10:02.565175Z",
     "start_time": "2019-06-09T08:10:00.710325Z"
    }
   },
   "outputs": [
    {
     "name": "stdout",
     "output_type": "stream",
     "text": [
      "Stage 'data_load' didn't change, skipping                                       \n",
      "Stage 'feature_extraction' didn't change, skipping\n",
      "Stage 'split_dataset' didn't change, skipping\n",
      "Stage 'train' didn't change, skipping\n",
      "Stage 'evaluate' didn't change, skipping\n",
      "Data and pipelines are up to date.\n",
      "\u001b[0m"
     ]
    }
   ],
   "source": [
    "# Nothing to reproduce since code was checked out by `git checkout`\n",
    "# and data files were checked out by `dvc checkout`\n",
    "!dvc repro"
   ]
  },
  {
   "cell_type": "markdown",
   "metadata": {},
   "source": [
    "### Tuning parameters\n",
    "\n",
    "in file __train.py__ :\n",
    "\n",
    "replace line:\n",
    "```python\n",
    "    clf = SVC(C=0.01, kernel='linear', gamma='scale', degree=5)\n",
    "```\n",
    "with line:\n",
    "\n",
    "```python\n",
    "    clf = LogisticRegression(C=0.1, solver='newton-cg', multi_class='multinomial', max_iter=100)\n",
    "```\n",
    "__Note__: here we changed logistic regresssion hyperparameters: C  to 0.1 and solver to newton-cg\n",
    "\n",
    "\n",
    "https://dvc.org/doc/tutorials/get-started/experiments#tuning-parameters"
   ]
  },
  {
   "cell_type": "code",
   "execution_count": null,
   "metadata": {},
   "outputs": [],
   "source": []
  },
  {
   "cell_type": "markdown",
   "metadata": {},
   "source": [
    "### Reproduce pipelines"
   ]
  },
  {
   "cell_type": "code",
   "execution_count": 69,
   "metadata": {
    "ExecuteTime": {
     "end_time": "2019-06-09T08:10:50.342976Z",
     "start_time": "2019-06-09T08:10:45.703634Z"
    }
   },
   "outputs": [
    {
     "name": "stdout",
     "output_type": "stream",
     "text": [
      "Stage 'data_load' didn't change, skipping                                       \n",
      "Stage 'feature_extraction' didn't change, skipping\n",
      "Stage 'split_dataset' didn't change, skipping\n",
      "Running stage 'train' with command:\n",
      "\tpython src/train.py --config=params.yaml\n",
      "Updating lock file 'dvc.lock'                                                   \n",
      "\n",
      "Running stage 'evaluate' with command:\n",
      "\tpython src/evaluate.py --config=params.yaml\n",
      "Updating lock file 'dvc.lock'                                                   \n",
      "\n",
      "To track the changes with git, run:\n",
      "\n",
      "\tgit add dvc.lock\n",
      "\u001b[0m"
     ]
    }
   ],
   "source": [
    "# re-run pipeline \n",
    "\n",
    "!dvc repro"
   ]
  },
  {
   "cell_type": "code",
   "execution_count": 70,
   "metadata": {
    "ExecuteTime": {
     "end_time": "2019-06-09T08:11:07.184312Z",
     "start_time": "2019-06-09T08:11:07.055076Z"
    }
   },
   "outputs": [
    {
     "name": "stdout",
     "output_type": "stream",
     "text": [
      "{\"f1_score\": 1.0}"
     ]
    }
   ],
   "source": [
    "# Get difference with metric from previous pipeline\n",
    "!cat data/metrics.json"
   ]
  },
  {
   "cell_type": "code",
   "execution_count": 71,
   "metadata": {
    "ExecuteTime": {
     "end_time": "2019-06-09T08:11:12.474655Z",
     "start_time": "2019-06-09T08:11:10.424805Z"
    }
   },
   "outputs": [
    {
     "name": "stdout",
     "output_type": "stream",
     "text": [
      "workspace:                                                                      \n",
      "\tdata/metrics.json:\n",
      "\t\tf1_score: 1.0\n",
      "dvc-tutorial:\n",
      "\tdata/metrics.json:\n",
      "\t\tf1_score: 0.15384615384615383\n",
      "exp1-ratio-features:\n",
      "\tdata/metrics.json:\n",
      "\t\tf1_score: 0.15384615384615383\n",
      "exp2-svm, exp3-tuning-logreg:\n",
      "\tdata/metrics.json:\n",
      "\t\tf1_score: 1.0\n",
      "\u001b[0m"
     ]
    }
   ],
   "source": [
    "!dvc metrics show -a"
   ]
  },
  {
   "cell_type": "code",
   "execution_count": 72,
   "metadata": {},
   "outputs": [
    {
     "name": "stdout",
     "output_type": "stream",
     "text": [
      "Path               Metric    Value    Change                                    \n",
      "data/metrics.json  f1_score  1.0      0.0\n",
      "\u001b[0m"
     ]
    }
   ],
   "source": [
    "!dvc metrics diff --all"
   ]
  },
  {
   "cell_type": "markdown",
   "metadata": {},
   "source": [
    "### Commit"
   ]
  },
  {
   "cell_type": "code",
   "execution_count": 73,
   "metadata": {
    "ExecuteTime": {
     "end_time": "2019-06-09T08:11:22.092160Z",
     "start_time": "2019-06-09T08:11:22.048495Z"
    }
   },
   "outputs": [
    {
     "name": "stdout",
     "output_type": "stream",
     "text": [
      "[exp3-tuning-logreg 32c96af] Tune model. LogisticRegression. C=0.1, solver=newton-cg\n",
      " 3 files changed, 54 insertions(+), 38 deletions(-)\n"
     ]
    }
   ],
   "source": [
    "%%bash\n",
    "\n",
    "git add .\n",
    "git commit -m \"Tune model. LogisticRegression. C=0.1, solver=newton-cg\"\n",
    "git tag -a \"exp3_tuning_logreg\" -m \"Tune model. LogisticRegression. C=0.1, solver=newton-cg\""
   ]
  },
  {
   "cell_type": "markdown",
   "metadata": {},
   "source": [
    "### Merge the model to dvc-tutorial"
   ]
  },
  {
   "cell_type": "code",
   "execution_count": 74,
   "metadata": {
    "ExecuteTime": {
     "end_time": "2019-06-09T08:11:36.055886Z",
     "start_time": "2019-06-09T08:11:36.001146Z"
    },
    "scrolled": true
   },
   "outputs": [
    {
     "name": "stdout",
     "output_type": "stream",
     "text": [
      "Обновление e72effe..32c96af\n",
      "Fast-forward\n",
      " dvc-3-automate-experiments.ipynb | 129 +++++++++++++++++++--------------------\n",
      " dvc.lock                         |  24 ++++----\n",
      " src/featurization.py             |   3 +\n",
      " src/train.py                     |   2 +-\n",
      " 4 files changed, 79 insertions(+), 79 deletions(-)\n"
     ]
    },
    {
     "name": "stderr",
     "output_type": "stream",
     "text": [
      "Переключено на ветку «dvc-tutorial»\n"
     ]
    }
   ],
   "source": [
    "%%bash\n",
    "\n",
    "git checkout dvc-tutorial\n",
    "git merge exp3-tuning-logreg"
   ]
  },
  {
   "cell_type": "code",
   "execution_count": null,
   "metadata": {},
   "outputs": [],
   "source": []
  },
  {
   "cell_type": "markdown",
   "metadata": {},
   "source": [
    "# Compare experiment results"
   ]
  },
  {
   "cell_type": "markdown",
   "metadata": {},
   "source": [
    "## List metrics for all runs (experiments)"
   ]
  },
  {
   "cell_type": "code",
   "execution_count": 75,
   "metadata": {
    "ExecuteTime": {
     "end_time": "2020-06-07T20:59:47.847792Z",
     "start_time": "2020-06-07T20:59:46.690534Z"
    }
   },
   "outputs": [
    {
     "name": "stdout",
     "output_type": "stream",
     "text": [
      "\tdata/metrics.json:                                                             \n",
      "\t\tf1_score: 1.0\n",
      "\u001b[0m"
     ]
    }
   ],
   "source": [
    "# this pipeline metrics \n",
    "\n",
    "!dvc metrics show"
   ]
  },
  {
   "cell_type": "code",
   "execution_count": 76,
   "metadata": {
    "ExecuteTime": {
     "end_time": "2019-06-09T08:11:49.638365Z",
     "start_time": "2019-06-09T08:11:49.504651Z"
    }
   },
   "outputs": [
    {
     "name": "stdout",
     "output_type": "stream",
     "text": [
      "workspace:                                                                      \n",
      "\tdata/metrics.json:\n",
      "\t\tf1_score: 1.0\n",
      "dvc-tutorial, exp3-tuning-logreg:\n",
      "\tdata/metrics.json:\n",
      "\t\tf1_score: 1.0\n",
      "exp1-ratio-features:\n",
      "\tdata/metrics.json:\n",
      "\t\tf1_score: 0.15384615384615383\n",
      "exp2-svm:\n",
      "\tdata/metrics.json:\n",
      "\t\tf1_score: 1.0\n",
      "exp2_svm:\n",
      "\tdata/metrics.json:\n",
      "\t\tf1_score: 1.0\n",
      "exp3_tuning_logreg:\n",
      "\tdata/metrics.json:\n",
      "\t\tf1_score: 1.0\n",
      "\u001b[0m"
     ]
    }
   ],
   "source": [
    "# show all commited pipelines metrics (all branch and tags)\n",
    "\n",
    "!dvc metrics show -a -T"
   ]
  },
  {
   "cell_type": "markdown",
   "metadata": {},
   "source": [
    "## Compare metrics (get differences)\n",
    "\n",
    "`Команда`\n",
    "```bash\n",
    "dvc metrics diff\n",
    "```\n",
    "\n",
    "Особенности:\n",
    "\n",
    "* просто `dvc metrics diff` выдает разницу между текущей метрикой и метрикой в последнем коммите; если текущая и метрика в последнием коммите совпадают, то разницы нет, и она не выводится:"
   ]
  },
  {
   "cell_type": "code",
   "execution_count": 77,
   "metadata": {},
   "outputs": [
    {
     "name": "stdout",
     "output_type": "stream",
     "text": [
      "\u001b[0m                                                                            "
     ]
    }
   ],
   "source": [
    "!dvc metrics diff"
   ]
  },
  {
   "cell_type": "markdown",
   "metadata": {},
   "source": [
    "* чтобы нулевая разница выводилась, необходимо добавить опцию --all - вывести сравненеи даже неизменных метрик:"
   ]
  },
  {
   "cell_type": "code",
   "execution_count": 78,
   "metadata": {},
   "outputs": [
    {
     "name": "stdout",
     "output_type": "stream",
     "text": [
      "Path               Metric    Value    Change                                    \n",
      "data/metrics.json  f1_score  1.0      0.0\n",
      "\u001b[0m"
     ]
    }
   ],
   "source": [
    "!dvc metrics diff --all"
   ]
  },
  {
   "cell_type": "markdown",
   "metadata": {},
   "source": [
    "* чтобы сравнить текущую метрики из текущего коммита и из другого, нужно указать другой (old) коммит:"
   ]
  },
  {
   "cell_type": "code",
   "execution_count": 79,
   "metadata": {},
   "outputs": [
    {
     "name": "stdout",
     "output_type": "stream",
     "text": [
      "Path               Metric    Value    Change                                    \n",
      "data/metrics.json  f1_score  1.0      0.84615\n",
      "\u001b[0m"
     ]
    }
   ],
   "source": [
    "# Equivalent to `!dvc metrics diff exp1-ratio-features dvc-tutorial`, because dvc-tutorial - current branch\n",
    "!dvc metrics diff exp1-ratio-features"
   ]
  },
  {
   "cell_type": "markdown",
   "metadata": {},
   "source": [
    "* для сравнения любых двух коммитов небходимо указать оба в порядке old new:"
   ]
  },
  {
   "cell_type": "code",
   "execution_count": 80,
   "metadata": {},
   "outputs": [
    {
     "name": "stdout",
     "output_type": "stream",
     "text": [
      "Path               Metric    Value    Change                                    \n",
      "data/metrics.json  f1_score  1.0      0.84615\n",
      "\u001b[0m"
     ]
    }
   ],
   "source": [
    "# Compare old - exp1 and new exp2\n",
    "!dvc metrics diff exp1-ratio-features exp2-svm"
   ]
  },
  {
   "cell_type": "markdown",
   "metadata": {},
   "source": [
    "* чтобы выводить не только новую, но и старую метрики, нужно добавить опцию --old"
   ]
  },
  {
   "cell_type": "code",
   "execution_count": 81,
   "metadata": {},
   "outputs": [
    {
     "name": "stdout",
     "output_type": "stream",
     "text": [
      "Path               Metric    Old      New    Change                             \n",
      "data/metrics.json  f1_score  0.15385  1.0    0.84615\n",
      "\u001b[0m"
     ]
    }
   ],
   "source": [
    "# Here Old metrics is from exp1 and New metric - from exp2\n",
    "!dvc metrics diff --old exp1-ratio-features exp2-svm"
   ]
  },
  {
   "cell_type": "markdown",
   "metadata": {},
   "source": [
    "### Compare all experiments with each other"
   ]
  },
  {
   "cell_type": "code",
   "execution_count": 82,
   "metadata": {},
   "outputs": [
    {
     "name": "stdout",
     "output_type": "stream",
     "text": [
      "\n",
      "exp1-ratio-features vs exp2-svm\n",
      "Path               Metric    Old      New    Change                             \n",
      "data/metrics.json  f1_score  0.15385  1.0    0.84615\n",
      "\u001b[0m\n",
      "exp1-ratio-features vs exp3-tuning-logreg\n",
      "Path               Metric    Old      New    Change                             \n",
      "data/metrics.json  f1_score  0.15385  1.0    0.84615\n",
      "\u001b[0m\n",
      "exp1-ratio-features vs dvc-tutorial\n",
      "Path               Metric    Old      New    Change                             \n",
      "data/metrics.json  f1_score  0.15385  1.0    0.84615\n",
      "\u001b[0m\n",
      "exp2-svm vs exp3-tuning-logreg\n",
      "Path               Metric    Old    New    Change                               \n",
      "data/metrics.json  f1_score  1.0    1.0    0.0\n",
      "\u001b[0m\n",
      "exp2-svm vs dvc-tutorial\n",
      "Path               Metric    Old    New    Change                               \n",
      "data/metrics.json  f1_score  1.0    1.0    0.0\n",
      "\u001b[0m\n",
      "exp3-tuning-logreg vs dvc-tutorial\n",
      "Path               Metric    Old    New    Change                               \n",
      "data/metrics.json  f1_score  1.0    1.0    0.0\n",
      "\u001b[0m"
     ]
    }
   ],
   "source": [
    "# All experiments\n",
    "experiments = ['exp1-ratio-features', 'exp2-svm', 'exp3-tuning-logreg', 'dvc-tutorial']\n",
    "\n",
    "# Make pairs (with repeats) of all experiments\n",
    "for i in range(len(experiments)):\n",
    "    for j in range(i + 1, len(experiments)):\n",
    "        \n",
    "        old_exp = experiments[i]\n",
    "        new_exp = experiments[j]\n",
    "        \n",
    "        print(f'\\n{old_exp} vs {new_exp}')\n",
    "        \n",
    "        # Get diffenece between metrics from old and experiments\n",
    "        !dvc metrics diff --old --all {old_exp} {new_exp} "
   ]
  },
  {
   "cell_type": "code",
   "execution_count": null,
   "metadata": {},
   "outputs": [],
   "source": []
  },
  {
   "cell_type": "markdown",
   "metadata": {},
   "source": [
    "## Plots\n",
    "\n",
    "`Команда`\n",
    "```bash\n",
    "dvc plots [show|diff]\n",
    "```\n",
    "\n",
    "Построенный график сохраняется в html-файл."
   ]
  },
  {
   "cell_type": "code",
   "execution_count": 83,
   "metadata": {},
   "outputs": [],
   "source": [
    "from IPython.display import IFrame"
   ]
  },
  {
   "cell_type": "markdown",
   "metadata": {},
   "source": [
    "### Show\n",
    "\n",
    "Строит график по переданному файлу метрик. \n",
    "Здесь используем стандратный шаблон `confusion` для вывод `confusion_matrix`. "
   ]
  },
  {
   "cell_type": "code",
   "execution_count": 84,
   "metadata": {},
   "outputs": [
    {
     "name": "stdout",
     "output_type": "stream",
     "text": [
      "file:///home/alex/Dev/Projects/tutorials-dvc/dvc-3-automate-experiments/data/plots-show.html\n",
      "\u001b[0m"
     ]
    }
   ],
   "source": [
    "!dvc plots show  --template confusion \"data/cm.csv\" -x actual -y predicted -o data/plots-show.html"
   ]
  },
  {
   "cell_type": "code",
   "execution_count": 86,
   "metadata": {},
   "outputs": [
    {
     "data": {
      "text/html": [
       "\n",
       "        <iframe\n",
       "            width=\"300\"\n",
       "            height=\"300\"\n",
       "            src=\"data/plots-show.html\"\n",
       "            frameborder=\"0\"\n",
       "            allowfullscreen\n",
       "        ></iframe>\n",
       "        "
      ],
      "text/plain": [
       "<IPython.lib.display.IFrame at 0x7f54c17b35c0>"
      ]
     },
     "execution_count": 86,
     "metadata": {},
     "output_type": "execute_result"
    }
   ],
   "source": [
    "IFrame(src='data/plots-show.html', width=300, height=300)"
   ]
  },
  {
   "cell_type": "markdown",
   "metadata": {},
   "source": [
    "### Diff\n",
    "\n",
    "Строит графики метрик для разных коммитов в одной системе координат. \n",
    "Это возможно только тогда, когда в каких-нибудь этапах файл(ы) объявлен(ы) как plots. \n",
    "\n",
    "Здесь такой этап - `evaluate`:\n",
    "\n",
    "```\n",
    "!dvc run -n evaluate \\\n",
    "    -d src/evaluate.py \\\n",
    "    -d data/test.csv \\\n",
    "    -d data/model.joblib \\\n",
    "    -d data/classes.json \\\n",
    "    -m data/metrics.json \\\n",
    "    --plots data/cm.csv \\\n",
    "    -p data_load,data_split,train,evaluate \\\n",
    "        python src/evaluate.py \\\n",
    "            --config=params.yaml\n",
    "```\n",
    "\n",
    "файл `data/cm.json` объявлен как `plots`"
   ]
  },
  {
   "cell_type": "code",
   "execution_count": 87,
   "metadata": {},
   "outputs": [
    {
     "name": "stdout",
     "output_type": "stream",
     "text": [
      "file:///home/alex/Dev/Projects/tutorials-dvc/dvc-3-automate-experiments/data/plots-diff.html\n",
      "\u001b[0m"
     ]
    }
   ],
   "source": [
    "# Build metircs plots for all 3 experiments\n",
    "!dvc plots diff -o data/plots-diff.html exp1-ratio-features exp2-svm exp3-tuning-logreg"
   ]
  },
  {
   "cell_type": "code",
   "execution_count": 88,
   "metadata": {},
   "outputs": [
    {
     "data": {
      "text/html": [
       "\n",
       "        <iframe\n",
       "            width=\"500\"\n",
       "            height=\"600\"\n",
       "            src=\"data/plots-diff.html\"\n",
       "            frameborder=\"0\"\n",
       "            allowfullscreen\n",
       "        ></iframe>\n",
       "        "
      ],
      "text/plain": [
       "<IPython.lib.display.IFrame at 0x7f54c17b3860>"
      ]
     },
     "execution_count": 88,
     "metadata": {},
     "output_type": "execute_result"
    }
   ],
   "source": [
    "IFrame(src='data/plots-diff.html', width=500, height=600)"
   ]
  },
  {
   "cell_type": "code",
   "execution_count": null,
   "metadata": {},
   "outputs": [],
   "source": []
  }
 ],
 "metadata": {
  "kernelspec": {
   "display_name": "Python 3",
   "language": "python",
   "name": "python3"
  },
  "language_info": {
   "codemirror_mode": {
    "name": "ipython",
    "version": 3
   },
   "file_extension": ".py",
   "mimetype": "text/x-python",
   "name": "python",
   "nbconvert_exporter": "python",
   "pygments_lexer": "ipython3",
   "version": "3.7.2"
  },
  "toc": {
   "base_numbering": 1,
   "nav_menu": {},
   "number_sections": false,
   "sideBar": true,
   "skip_h1_title": false,
   "title_cell": "Table of Contents",
   "title_sidebar": "Contents",
   "toc_cell": false,
   "toc_position": {
    "height": "calc(100% - 180px)",
    "left": "10px",
    "top": "150px",
    "width": "230.967px"
   },
   "toc_section_display": true,
   "toc_window_display": true
  },
  "varInspector": {
   "cols": {
    "lenName": 16,
    "lenType": 16,
    "lenVar": 40
   },
   "kernels_config": {
    "python": {
     "delete_cmd_postfix": "",
     "delete_cmd_prefix": "del ",
     "library": "var_list.py",
     "varRefreshCmd": "print(var_dic_list())"
    },
    "r": {
     "delete_cmd_postfix": ") ",
     "delete_cmd_prefix": "rm(",
     "library": "var_list.r",
     "varRefreshCmd": "cat(var_dic_list()) "
    }
   },
   "types_to_exclude": [
    "module",
    "function",
    "builtin_function_or_method",
    "instance",
    "_Feature"
   ],
   "window_display": false
  }
 },
 "nbformat": 4,
 "nbformat_minor": 4
}
